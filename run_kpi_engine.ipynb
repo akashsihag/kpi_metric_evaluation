{
 "cells": [
  {
   "cell_type": "code",
   "execution_count": 2,
   "metadata": {},
   "outputs": [
    {
     "data": {
      "text/html": [
       "\n",
       "        <div>\n",
       "            <p><b>SparkContext</b></p>\n",
       "\n",
       "            <p><a href=\"http://10.0.70.38:4040\">Spark UI</a></p>\n",
       "\n",
       "            <dl>\n",
       "              <dt>Version</dt>\n",
       "                <dd><code>v2.2.1</code></dd>\n",
       "              <dt>Master</dt>\n",
       "                <dd><code>yarn</code></dd>\n",
       "              <dt>AppName</dt>\n",
       "                <dd><code>app-akashs-139a150af6f9ceef-85f475ff59-vwdqz</code></dd>\n",
       "            </dl>\n",
       "        </div>\n",
       "        "
      ],
      "text/plain": [
       "<SparkContext master=yarn appName=app-akashs-139a150af6f9ceef-85f475ff59-vwdqz>"
      ]
     },
     "execution_count": 2,
     "metadata": {},
     "output_type": "execute_result"
    }
   ],
   "source": [
    "sc"
   ]
  },
  {
   "cell_type": "code",
   "execution_count": 3,
   "metadata": {},
   "outputs": [],
   "source": [
    "# Add environment dependencies here\n"
   ]
  },
  {
   "cell_type": "code",
   "execution_count": 9,
   "metadata": {},
   "outputs": [],
   "source": [
    "import sys\n",
    "# client\n",
    "import market_x\n",
    "client = market_x.client.Client('dev', sc, sqlContext)\n",
    "\n",
    "# core modules\n",
    "from core_modules.utils import functions\n",
    "from core_modules import summaries"
   ]
  },
  {
   "cell_type": "code",
   "execution_count": 8,
   "metadata": {
    "scrolled": false
   },
   "outputs": [],
   "source": [
    "import kpi\n",
    "# kpi = reload(kpi)"
   ]
  },
  {
   "cell_type": "code",
   "execution_count": 6,
   "metadata": {},
   "outputs": [],
   "source": [
    "import logging\n",
    "\n",
    "logging.basicConfig(\n",
    "    format='%(asctime)s %(levelname)s:%(message)s', \n",
    "    level=logging.DEBUG, \n",
    "    datefmt='%I:%M:%S'\n",
    ")\n",
    "\n",
    "logger = logging.getLogger()\n",
    "\n",
    "# ch = logging.StreamHandler(sys.stdout)\n",
    "# ch.setLevel(logging.DEBUG)\n",
    "# formatter = logging.Formatter('%(asctime)s - %(name)s - %(levelname)s - %(message)s')\n",
    "# ch.setFormatter(formatter)"
   ]
  },
  {
   "cell_type": "code",
   "execution_count": 7,
   "metadata": {
    "scrolled": false
   },
   "outputs": [],
   "source": [
    "# %tb\n",
    "# from pprint import pformat\n",
    "import time\n",
    "from kpi.helper import Helper\n",
    "\n",
    "print 'Start time : -> ' + time.asctime(time.localtime(time.time()))\n",
    "\n",
    "config = functions.get_config(\"kpi/configuration/market_x/config_traditional.ini\")\n",
    "\n",
    "# create object of helper class \n",
    "obj = Helper(sc, config, client)\n",
    "\n",
    "# run_module will trigger the kpis definitions and materialize the created dataframes on output_db\n",
    "obj.run_modules()\n",
    "\n",
    "# final_table will return the final dataframe and also save it to output_db \n",
    "final_df = obj.final_table()\n",
    "\n",
    "final_df.cache()\n",
    "final_df.show()\n",
    "\n",
    "print 'End time : -> ' + time.asctime(time.localtime(time.time()))"
   ]
  },
  {
   "cell_type": "code",
   "execution_count": null,
   "metadata": {},
   "outputs": [],
   "source": []
  },
  {
   "cell_type": "code",
   "execution_count": null,
   "metadata": {},
   "outputs": [],
   "source": []
  },
  {
   "cell_type": "code",
   "execution_count": null,
   "metadata": {},
   "outputs": [],
   "source": []
  }
 ],
 "metadata": {
  "kernelspec": {
   "display_name": "spark-2.2.1",
   "language": "python",
   "name": "py2-spark2.2.1"
  },
  "language_info": {
   "codemirror_mode": {
    "name": "ipython",
    "version": 2
   },
   "file_extension": ".py",
   "mimetype": "text/x-python",
   "name": "python",
   "nbconvert_exporter": "python",
   "pygments_lexer": "ipython2",
   "version": "2.7.15"
  }
 },
 "nbformat": 4,
 "nbformat_minor": 2
}
